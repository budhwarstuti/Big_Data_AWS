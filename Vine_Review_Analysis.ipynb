{
 "cells": [
  {
   "cell_type": "code",
   "execution_count": 2,
   "metadata": {
    "colab": {
     "base_uri": "https://localhost:8080/"
    },
    "id": "QH3cjJcYPAOO",
    "outputId": "58f0aa16-2597-416c-c204-3e0abb0d79cb"
   },
   "outputs": [
    {
     "name": "stdout",
     "output_type": "stream",
     "text": [
      "\r",
      "0% [Working]\r",
      "            \r",
      "Ign:1 https://developer.download.nvidia.com/compute/cuda/repos/ubuntu1804/x86_64  InRelease\n",
      "\r",
      "0% [Waiting for headers] [Connecting to security.ubuntu.com (91.189.91.38)] [Wa\r",
      "                                                                               \r",
      "Hit:2 https://cloud.r-project.org/bin/linux/ubuntu bionic-cran40/ InRelease\n",
      "\r",
      "0% [Waiting for headers] [Waiting for headers] [Waiting for headers] [Waiting f\r",
      "0% [2 InRelease gpgv 3,626 B] [Waiting for headers] [Waiting for headers] [Wait\r",
      "                                                                               \r",
      "Hit:3 http://security.ubuntu.com/ubuntu bionic-security InRelease\n",
      "\r",
      "0% [2 InRelease gpgv 3,626 B] [Waiting for headers] [Waiting for headers] [Wait\r",
      "                                                                               \r",
      "Ign:4 https://developer.download.nvidia.com/compute/machine-learning/repos/ubuntu1804/x86_64  InRelease\n",
      "\r",
      "                                                                               \r",
      "0% [2 InRelease gpgv 3,626 B] [Waiting for headers] [Waiting for headers]\r",
      "                                                                         \r",
      "Hit:5 http://ppa.launchpad.net/c2d4u.team/c2d4u4.0+/ubuntu bionic InRelease\n",
      "\r",
      "0% [2 InRelease gpgv 3,626 B] [Waiting for headers] [Connecting to ppa.launchpa\r",
      "                                                                               \r",
      "Hit:6 http://archive.ubuntu.com/ubuntu bionic InRelease\n",
      "Hit:7 https://developer.download.nvidia.com/compute/cuda/repos/ubuntu1804/x86_64  Release\n",
      "Hit:8 https://developer.download.nvidia.com/compute/machine-learning/repos/ubuntu1804/x86_64  Release\n",
      "Hit:9 http://archive.ubuntu.com/ubuntu bionic-updates InRelease\n",
      "Hit:10 http://ppa.launchpad.net/graphics-drivers/ppa/ubuntu bionic InRelease\n",
      "Hit:11 http://archive.ubuntu.com/ubuntu bionic-backports InRelease\n",
      "Reading package lists... Done\n"
     ]
    }
   ],
   "source": [
    "import os\n",
    "# Find the latest version of spark 2.0  from http://www-us.apache.org/dist/spark/ and enter as the spark version\n",
    "# For example:\n",
    "# spark_version = 'spark-3.0.0'\n",
    "spark_version = 'spark-3.0.1'\n",
    "os.environ['SPARK_VERSION']=spark_version\n",
    "\n",
    "# Install Spark and Java\n",
    "!apt-get update\n",
    "!apt-get install openjdk-11-jdk-headless -qq > /dev/null\n",
    "!wget -q http://www-us.apache.org/dist/spark/$SPARK_VERSION/$SPARK_VERSION-bin-hadoop2.7.tgz\n",
    "!tar xf $SPARK_VERSION-bin-hadoop2.7.tgz\n",
    "!pip install -q findspark\n",
    "\n",
    "# Set Environment Variables\n",
    "import os\n",
    "os.environ[\"JAVA_HOME\"] = \"/usr/lib/jvm/java-11-openjdk-amd64\"\n",
    "os.environ[\"SPARK_HOME\"] = f\"/content/{spark_version}-bin-hadoop2.7\"\n",
    "\n",
    "# Start a SparkSession\n",
    "import findspark\n",
    "findspark.init()"
   ]
  },
  {
   "cell_type": "code",
   "execution_count": 3,
   "metadata": {
    "colab": {
     "base_uri": "https://localhost:8080/"
    },
    "id": "yQcXCTXUPh2O",
    "outputId": "acfb083d-6061-4a74-ce46-9d924dca9f7f"
   },
   "outputs": [
    {
     "name": "stdout",
     "output_type": "stream",
     "text": [
      "--2020-11-01 05:18:51--  https://jdbc.postgresql.org/download/postgresql-42.2.16.jar\n",
      "Resolving jdbc.postgresql.org (jdbc.postgresql.org)... 72.32.157.228, 2001:4800:3e1:1::228\n",
      "Connecting to jdbc.postgresql.org (jdbc.postgresql.org)|72.32.157.228|:443... connected.\n",
      "HTTP request sent, awaiting response... 200 OK\n",
      "Length: 1002883 (979K) [application/java-archive]\n",
      "Saving to: ‘postgresql-42.2.16.jar’\n",
      "\n",
      "postgresql-42.2.16. 100%[===================>] 979.38K  5.41MB/s    in 0.2s    \n",
      "\n",
      "2020-11-01 05:18:51 (5.41 MB/s) - ‘postgresql-42.2.16.jar’ saved [1002883/1002883]\n",
      "\n"
     ]
    }
   ],
   "source": [
    "# Download the Postgres driver that will allow Spark to interact with Postgres.\n",
    "!wget https://jdbc.postgresql.org/download/postgresql-42.2.16.jar"
   ]
  },
  {
   "cell_type": "code",
   "execution_count": 4,
   "metadata": {
    "id": "x_1pmA8LPkpj"
   },
   "outputs": [],
   "source": [
    "from pyspark.sql import SparkSession\n",
    "spark = SparkSession.builder.appName(\"BigData-Challenge\").config(\"spark.driver.extraClassPath\",\"/content/postgresql-42.2.16.jar\").getOrCreate()"
   ]
  },
  {
   "cell_type": "markdown",
   "metadata": {
    "id": "Ikgoxz8cPuKr"
   },
   "source": [
    "### Load Amazon Data into Spark DataFrame"
   ]
  },
  {
   "cell_type": "code",
   "execution_count": 6,
   "metadata": {
    "colab": {
     "base_uri": "https://localhost:8080/"
    },
    "id": "HnKLFUq6Pz36",
    "outputId": "0b8e4efe-9e7b-428b-e0f4-7bf2c1cdc021"
   },
   "outputs": [
    {
     "name": "stdout",
     "output_type": "stream",
     "text": [
      "+-----------+-----------+--------------+----------+--------------+--------------------+----------------+-----------+-------------+-----------+----+-----------------+--------------------+--------------------+-----------+\n",
      "|marketplace|customer_id|     review_id|product_id|product_parent|       product_title|product_category|star_rating|helpful_votes|total_votes|vine|verified_purchase|     review_headline|         review_body|review_date|\n",
      "+-----------+-----------+--------------+----------+--------------+--------------------+----------------+-----------+-------------+-----------+----+-----------------+--------------------+--------------------+-----------+\n",
      "|         US|   24509695|R3VR960AHLFKDV|B004HB5E0E|     488241329|Shoal Creek Compu...|       Furniture|          4|            0|          0|   N|                Y|... desk is very ...|This desk is very...| 2015-08-31|\n",
      "|         US|   34731776|R16LGVMFKIUT0G|B0042TNMMS|     205864445|Dorel Home Produc...|       Furniture|          5|            0|          0|   N|                Y|          Five Stars|          Great item| 2015-08-31|\n",
      "|         US|    1272331|R1AIMEEPYHMOE4|B0030MPBZ4|     124663823|Bathroom Vanity T...|       Furniture|          5|            1|          1|   N|                Y|          Five Stars|Perfect fit for m...| 2015-08-31|\n",
      "|         US|   45284262|R1892CCSZWZ9SR|B005G02ESA|     382367578|Sleep Master Ulti...|       Furniture|          3|            0|          0|   N|                Y|         Good enough|We use this on a ...| 2015-08-31|\n",
      "|         US|   30003523|R285P679YWVKD1|B005JS8AUA|     309497463|1 1/4\" GashGuards...|       Furniture|          3|            0|          0|   N|                N|Gash Gards for da...|The product is fi...| 2015-08-31|\n",
      "|         US|   18311821| RLB33HJBXHZHU|B00AVUQQGQ|     574537906|Serta Bonded Leat...|       Furniture|          5|            0|          0|   N|                Y|          Five Stars|Love this product...| 2015-08-31|\n",
      "|         US|   42943632|R1VGTZ94DBAD6A|B00CFY20GQ|     407473883|Prepac Shoe Stora...|       Furniture|          5|            2|          2|   N|                Y|   I love this bench|I love this bench...| 2015-08-31|\n",
      "|         US|   43157304|R168KF82ICSOHD|B00FKC48QA|     435120460|HomCom PU Leather...|       Furniture|          5|            0|          0|   N|                Y|Great storage cap...|Have had this for...| 2015-08-31|\n",
      "|         US|   51918480|R20DIYIJ0OCMOG|B00N9IAL9K|     356495985|  Folding Step Stool|       Furniture|          5|            0|          0|   N|                Y|This is the best ...|This is the best ...| 2015-08-31|\n",
      "|         US|   14522766| RD46RNVOHNZSC|B001T4XU1C|     243050228|Ace Bayou Adult V...|       Furniture|          5|            0|          0|   N|                Y|    great for price!|    my son loves it!| 2015-08-31|\n",
      "|         US|   43054112|R2JDOCETTM3AXS|B002HRFLBC|      93574483|4D Concepts Audio...|       Furniture|          5|            0|          0|   N|                Y|          Five Stars|       Great product| 2015-08-31|\n",
      "|         US|   26622950|R33YMW36IDZ6LE|B006MISZOC|     941823468|Zinus SC-SBBK-14N...|       Furniture|          5|            0|          0|   N|                Y|             perfect|bought with sleep...| 2015-08-31|\n",
      "|         US|   17988940|R30ZGGUHZ04C1S|B008BMGABC|     460567746|Poundex Marble Di...|       Furniture|          5|            1|          1|   N|                Y|   Very satisfied!!!|Delivery was on t...| 2015-08-31|\n",
      "|         US|   18444952| RS2EZU76IK2BT|B00CO2VH5Y|     829613894|Safavieh Lyndhurs...|       Furniture|          5|            0|          0|   N|                Y|soft and great fo...|Exactly as pictur...| 2015-08-31|\n",
      "|         US|   16937084|R1GJC1BP028XO9|B00LI4RJQ0|     816478187|Sauder Boone Moun...|       Furniture|          5|            2|          3|   N|                Y|        Great table.|Beautiful table. ...| 2015-08-31|\n",
      "|         US|   23665632|R2VKJPGXXEK5GP|B0046EC1D0|     358594389|Winsome Wood Brea...|       Furniture|          1|            0|          0|   N|                Y|Not what I expect...|I have cleaned up...| 2015-08-31|\n",
      "|         US|    4110125|R17KS83G3KLT97|B00DQQPL36|     312571325|HODEDAH IMPORT Me...|       Furniture|          3|            0|          0|   N|                Y|         Three Stars|First one came in...| 2015-08-31|\n",
      "|         US|     107621|R3PQL8SR4NEHWL|B003X7RWB2|     402665054|Flash Furniture H...|       Furniture|          4|            0|          0|   N|                Y|          Four Stars|Good deal to get ...| 2015-08-31|\n",
      "|         US|    2415090|R2F5WW7WNO5RRG|B001TJYPJ8|     854989315|Sleep Revolution ...|       Furniture|          5|            0|          0|   N|                Y|          Five Stars|Comfortable and e...| 2015-08-31|\n",
      "|         US|   48285966|R3UDJKVWQCFIC9|B000TMHX9A|     814079288|Flash Furniture V...|       Furniture|          5|            0|          0|   N|                Y|Very comfortable....|As advertised. Ve...| 2015-08-31|\n",
      "+-----------+-----------+--------------+----------+--------------+--------------------+----------------+-----------+-------------+-----------+----+-----------------+--------------------+--------------------+-----------+\n",
      "only showing top 20 rows\n",
      "\n"
     ]
    }
   ],
   "source": [
    "from pyspark import SparkFiles\n",
    "url = \"https://s3.amazonaws.com/amazon-reviews-pds/tsv/amazon_reviews_us_Furniture_v1_00.tsv.gz\"\n",
    "spark.sparkContext.addFile(url)\n",
    "df = spark.read.option(\"encoding\", \"UTF-8\").csv(SparkFiles.get(\"amazon_reviews_us_Furniture_v1_00.tsv.gz\"), sep=\"\\t\", header=True, inferSchema=True)\n",
    "df.show()"
   ]
  },
  {
   "cell_type": "code",
   "execution_count": 7,
   "metadata": {
    "colab": {
     "base_uri": "https://localhost:8080/"
    },
    "id": "6l6tyO6BP7IE",
    "outputId": "589fb917-3bf6-4d16-e957-d13d1bd0cd38"
   },
   "outputs": [
    {
     "name": "stdout",
     "output_type": "stream",
     "text": [
      "+--------------+-----------+-------------+-----------+----+-----------------+\n",
      "|     review_id|star_rating|helpful_votes|total_votes|vine|verified_purchase|\n",
      "+--------------+-----------+-------------+-----------+----+-----------------+\n",
      "|R3VR960AHLFKDV|          4|            0|          0|   N|                Y|\n",
      "|R16LGVMFKIUT0G|          5|            0|          0|   N|                Y|\n",
      "|R1AIMEEPYHMOE4|          5|            1|          1|   N|                Y|\n",
      "|R1892CCSZWZ9SR|          3|            0|          0|   N|                Y|\n",
      "|R285P679YWVKD1|          3|            0|          0|   N|                N|\n",
      "| RLB33HJBXHZHU|          5|            0|          0|   N|                Y|\n",
      "|R1VGTZ94DBAD6A|          5|            2|          2|   N|                Y|\n",
      "|R168KF82ICSOHD|          5|            0|          0|   N|                Y|\n",
      "|R20DIYIJ0OCMOG|          5|            0|          0|   N|                Y|\n",
      "| RD46RNVOHNZSC|          5|            0|          0|   N|                Y|\n",
      "|R2JDOCETTM3AXS|          5|            0|          0|   N|                Y|\n",
      "|R33YMW36IDZ6LE|          5|            0|          0|   N|                Y|\n",
      "|R30ZGGUHZ04C1S|          5|            1|          1|   N|                Y|\n",
      "| RS2EZU76IK2BT|          5|            0|          0|   N|                Y|\n",
      "|R1GJC1BP028XO9|          5|            2|          3|   N|                Y|\n",
      "|R2VKJPGXXEK5GP|          1|            0|          0|   N|                Y|\n",
      "|R17KS83G3KLT97|          3|            0|          0|   N|                Y|\n",
      "|R3PQL8SR4NEHWL|          4|            0|          0|   N|                Y|\n",
      "|R2F5WW7WNO5RRG|          5|            0|          0|   N|                Y|\n",
      "|R3UDJKVWQCFIC9|          5|            0|          0|   N|                Y|\n",
      "+--------------+-----------+-------------+-----------+----+-----------------+\n",
      "only showing top 20 rows\n",
      "\n"
     ]
    }
   ],
   "source": [
    "# Recreating the vine table\n",
    "vine_df = df.select([\"review_id\", \"star_rating\", \"helpful_votes\", \"total_votes\", \"vine\", \"verified_purchase\"])\n",
    "vine_df.show()"
   ]
  },
  {
   "cell_type": "code",
   "execution_count": 29,
   "metadata": {
    "colab": {
     "base_uri": "https://localhost:8080/"
    },
    "id": "-Q7cLwy_chsk",
    "outputId": "66d5cad9-598d-428c-de7f-a60bb2393865"
   },
   "outputs": [
    {
     "data": {
      "text/plain": [
       "792113"
      ]
     },
     "execution_count": 29,
     "metadata": {
      "tags": []
     },
     "output_type": "execute_result"
    }
   ],
   "source": [
    "# Total count of data\n",
    "vine_df.count()"
   ]
  },
  {
   "cell_type": "code",
   "execution_count": 9,
   "metadata": {
    "colab": {
     "base_uri": "https://localhost:8080/"
    },
    "id": "wkfivGYpQqL1",
    "outputId": "d7ef1b5f-0e87-4e55-e713-6ce376b6ee4a"
   },
   "outputs": [
    {
     "name": "stdout",
     "output_type": "stream",
     "text": [
      "+--------------+-----------+-------------+-----------+----+-----------------+\n",
      "|     review_id|star_rating|helpful_votes|total_votes|vine|verified_purchase|\n",
      "+--------------+-----------+-------------+-----------+----+-----------------+\n",
      "| RL8D0KJ0J9L0O|          5|          152|        165|   N|                Y|\n",
      "|R1BEINAIQFBRJC|          5|           21|         23|   N|                Y|\n",
      "|R2L59KIJH302P9|          4|           26|         26|   N|                Y|\n",
      "| RR99CPG695T0I|          5|          215|        248|   N|                N|\n",
      "|R1XQNKKUPCMWVO|          5|           43|         44|   N|                Y|\n",
      "|R3JUXVCT1NSK2A|          3|           25|         26|   N|                Y|\n",
      "|R3GNSIFV1J2Y2B|          1|           15|         60|   N|                N|\n",
      "| RTCRZARYY4LXX|          5|           52|         54|   N|                Y|\n",
      "|R3OFB4P7Y8WR27|          1|           15|         26|   N|                Y|\n",
      "|R3MTAYGQM25N63|          4|           58|         59|   N|                Y|\n",
      "| RJNDSWES5ISZ7|          5|           78|         79|   N|                Y|\n",
      "|R15R7STOZZP2A4|          5|           33|         34|   N|                Y|\n",
      "|R33V5WV529NK8E|          4|           30|         32|   N|                Y|\n",
      "| RIR9ZI3L80P7P|          3|           72|         76|   N|                N|\n",
      "|R10P6SDC1D6C3I|          5|           23|         25|   N|                Y|\n",
      "|R110G9UVLI2MLS|          5|           52|         55|   N|                Y|\n",
      "|R1I4LN1WR3YVJX|          1|           31|         40|   N|                Y|\n",
      "|R1B76MPCS05UX9|          5|           19|         21|   N|                Y|\n",
      "|R17PJIKAZ3U6BG|          5|           21|         21|   N|                Y|\n",
      "|R2T3TLCX42RWLY|          5|           46|         48|   N|                Y|\n",
      "+--------------+-----------+-------------+-----------+----+-----------------+\n",
      "only showing top 20 rows\n",
      "\n"
     ]
    }
   ],
   "source": [
    "# Creating new df with total votes more than 20\n",
    "high_votes_vine_df = vine_df.filter(\"total_votes >= 20\")\n",
    "high_votes_vine_df.show()"
   ]
  },
  {
   "cell_type": "code",
   "execution_count": 11,
   "metadata": {
    "colab": {
     "base_uri": "https://localhost:8080/"
    },
    "id": "qpWljcKuRKkj",
    "outputId": "2ed4b23e-7e7c-4a51-eb07-b71352bb2b47"
   },
   "outputs": [
    {
     "name": "stdout",
     "output_type": "stream",
     "text": [
      "+--------------+-----------+-------------+-----------+----+-----------------+--------------------------+\n",
      "|     review_id|star_rating|helpful_votes|total_votes|vine|verified_purchase|greater_than_fifty_percent|\n",
      "+--------------+-----------+-------------+-----------+----+-----------------+--------------------------+\n",
      "| RL8D0KJ0J9L0O|          5|          152|        165|   N|                Y|        0.9212121212121213|\n",
      "|R1BEINAIQFBRJC|          5|           21|         23|   N|                Y|        0.9130434782608695|\n",
      "|R2L59KIJH302P9|          4|           26|         26|   N|                Y|                       1.0|\n",
      "| RR99CPG695T0I|          5|          215|        248|   N|                N|        0.8669354838709677|\n",
      "|R1XQNKKUPCMWVO|          5|           43|         44|   N|                Y|        0.9772727272727273|\n",
      "|R3JUXVCT1NSK2A|          3|           25|         26|   N|                Y|        0.9615384615384616|\n",
      "| RTCRZARYY4LXX|          5|           52|         54|   N|                Y|        0.9629629629629629|\n",
      "|R3OFB4P7Y8WR27|          1|           15|         26|   N|                Y|        0.5769230769230769|\n",
      "|R3MTAYGQM25N63|          4|           58|         59|   N|                Y|        0.9830508474576272|\n",
      "| RJNDSWES5ISZ7|          5|           78|         79|   N|                Y|        0.9873417721518988|\n",
      "|R15R7STOZZP2A4|          5|           33|         34|   N|                Y|        0.9705882352941176|\n",
      "|R33V5WV529NK8E|          4|           30|         32|   N|                Y|                    0.9375|\n",
      "| RIR9ZI3L80P7P|          3|           72|         76|   N|                N|        0.9473684210526315|\n",
      "|R10P6SDC1D6C3I|          5|           23|         25|   N|                Y|                      0.92|\n",
      "|R110G9UVLI2MLS|          5|           52|         55|   N|                Y|        0.9454545454545454|\n",
      "|R1I4LN1WR3YVJX|          1|           31|         40|   N|                Y|                     0.775|\n",
      "|R1B76MPCS05UX9|          5|           19|         21|   N|                Y|        0.9047619047619048|\n",
      "|R17PJIKAZ3U6BG|          5|           21|         21|   N|                Y|                       1.0|\n",
      "|R2T3TLCX42RWLY|          5|           46|         48|   N|                Y|        0.9583333333333334|\n",
      "|R39YWJ09ZCPW7P|          5|           24|         28|   N|                Y|        0.8571428571428571|\n",
      "+--------------+-----------+-------------+-----------+----+-----------------+--------------------------+\n",
      "only showing top 20 rows\n",
      "\n"
     ]
    }
   ],
   "source": [
    "# Creating new df with helpful_votes/total_votes >= 50%\n",
    "higher_percent_helpful_votes_df = high_votes_vine_df.withColumn(\"greater_than_fifty_percent\", high_votes_vine_df[\"helpful_votes\"] / high_votes_vine_df[\"total_votes\"]).filter(\"greater_than_fifty_percent >= 0.5\")\n",
    "higher_percent_helpful_votes_df.show()"
   ]
  },
  {
   "cell_type": "code",
   "execution_count": 12,
   "metadata": {
    "colab": {
     "base_uri": "https://localhost:8080/"
    },
    "id": "AhQCcWwfSV3H",
    "outputId": "4b35a438-4ad7-4fcc-f0c2-e8ad1867e33b"
   },
   "outputs": [
    {
     "name": "stdout",
     "output_type": "stream",
     "text": [
      "+--------------+-----------+-------------+-----------+----+-----------------+--------------------------+\n",
      "|     review_id|star_rating|helpful_votes|total_votes|vine|verified_purchase|greater_than_fifty_percent|\n",
      "+--------------+-----------+-------------+-----------+----+-----------------+--------------------------+\n",
      "|R2BQOD1R0228FN|          3|           17|         26|   Y|                N|        0.6538461538461539|\n",
      "| RC31RUPFOHBHQ|          4|          102|        117|   Y|                N|        0.8717948717948718|\n",
      "| REN3N1WITLF1Y|          5|           33|         37|   Y|                N|        0.8918918918918919|\n",
      "| R71RZQ9UZVG47|          4|           38|         47|   Y|                N|        0.8085106382978723|\n",
      "|R38NMQBH88HLM6|          4|           18|         24|   Y|                N|                      0.75|\n",
      "|R33FGX9EE3QVR6|          4|           26|         26|   Y|                N|                       1.0|\n",
      "|R1KIOIK6WEYE59|          3|           19|         20|   Y|                N|                      0.95|\n",
      "|R25X9BMOB3FD0E|          4|           32|         37|   Y|                N|        0.8648648648648649|\n",
      "|R3VCKFCX2377Q2|          4|           95|        101|   Y|                N|        0.9405940594059405|\n",
      "|R1E0OUG63HMSM4|          3|           58|         61|   Y|                N|        0.9508196721311475|\n",
      "|R1V45RUW5ZB3LS|          4|           19|         21|   Y|                N|        0.9047619047619048|\n",
      "| RTF6DSZ1UTLHH|          5|          401|        418|   Y|                N|        0.9593301435406698|\n",
      "|R1CZV9N2YLJAP7|          5|          123|        136|   Y|                Y|        0.9044117647058824|\n",
      "|R1OF3X9W99Y300|          4|           27|         35|   Y|                N|        0.7714285714285715|\n",
      "|R1JYKEH4CQVJ1B|          5|           22|         23|   Y|                N|        0.9565217391304348|\n",
      "|R1093XVB0H2QOL|          4|           51|         54|   Y|                N|        0.9444444444444444|\n",
      "|R3Q81B31F1CPGH|          3|           50|         55|   Y|                N|        0.9090909090909091|\n",
      "|R2P6XIZZPJF7AE|          5|           46|         51|   Y|                N|        0.9019607843137255|\n",
      "|R3N5S06UW5MKFE|          3|          907|        925|   Y|                N|        0.9805405405405405|\n",
      "|R3J9EJCVKFCRWO|          5|           18|         20|   Y|                N|                       0.9|\n",
      "+--------------+-----------+-------------+-----------+----+-----------------+--------------------------+\n",
      "only showing top 20 rows\n",
      "\n"
     ]
    }
   ],
   "source": [
    "# creating new df where vine equals \"Y\"\n",
    "Y_vine_df = higher_percent_helpful_votes_df.filter(higher_percent_helpful_votes_df[\"vine\"] == \"Y\")\n",
    "Y_vine_df.show()"
   ]
  },
  {
   "cell_type": "code",
   "execution_count": 13,
   "metadata": {
    "colab": {
     "base_uri": "https://localhost:8080/"
    },
    "id": "XyOfGA7ZTvO7",
    "outputId": "85885b37-2cbf-4fad-f0fe-6065e8cc9612"
   },
   "outputs": [
    {
     "name": "stdout",
     "output_type": "stream",
     "text": [
      "+--------------+-----------+-------------+-----------+----+-----------------+--------------------------+\n",
      "|     review_id|star_rating|helpful_votes|total_votes|vine|verified_purchase|greater_than_fifty_percent|\n",
      "+--------------+-----------+-------------+-----------+----+-----------------+--------------------------+\n",
      "| RL8D0KJ0J9L0O|          5|          152|        165|   N|                Y|        0.9212121212121213|\n",
      "|R1BEINAIQFBRJC|          5|           21|         23|   N|                Y|        0.9130434782608695|\n",
      "|R2L59KIJH302P9|          4|           26|         26|   N|                Y|                       1.0|\n",
      "| RR99CPG695T0I|          5|          215|        248|   N|                N|        0.8669354838709677|\n",
      "|R1XQNKKUPCMWVO|          5|           43|         44|   N|                Y|        0.9772727272727273|\n",
      "|R3JUXVCT1NSK2A|          3|           25|         26|   N|                Y|        0.9615384615384616|\n",
      "| RTCRZARYY4LXX|          5|           52|         54|   N|                Y|        0.9629629629629629|\n",
      "|R3OFB4P7Y8WR27|          1|           15|         26|   N|                Y|        0.5769230769230769|\n",
      "|R3MTAYGQM25N63|          4|           58|         59|   N|                Y|        0.9830508474576272|\n",
      "| RJNDSWES5ISZ7|          5|           78|         79|   N|                Y|        0.9873417721518988|\n",
      "|R15R7STOZZP2A4|          5|           33|         34|   N|                Y|        0.9705882352941176|\n",
      "|R33V5WV529NK8E|          4|           30|         32|   N|                Y|                    0.9375|\n",
      "| RIR9ZI3L80P7P|          3|           72|         76|   N|                N|        0.9473684210526315|\n",
      "|R10P6SDC1D6C3I|          5|           23|         25|   N|                Y|                      0.92|\n",
      "|R110G9UVLI2MLS|          5|           52|         55|   N|                Y|        0.9454545454545454|\n",
      "|R1I4LN1WR3YVJX|          1|           31|         40|   N|                Y|                     0.775|\n",
      "|R1B76MPCS05UX9|          5|           19|         21|   N|                Y|        0.9047619047619048|\n",
      "|R17PJIKAZ3U6BG|          5|           21|         21|   N|                Y|                       1.0|\n",
      "|R2T3TLCX42RWLY|          5|           46|         48|   N|                Y|        0.9583333333333334|\n",
      "|R39YWJ09ZCPW7P|          5|           24|         28|   N|                Y|        0.8571428571428571|\n",
      "+--------------+-----------+-------------+-----------+----+-----------------+--------------------------+\n",
      "only showing top 20 rows\n",
      "\n"
     ]
    }
   ],
   "source": [
    "# creating new df where vine equals \"N\"\n",
    "N_vine_df = higher_percent_helpful_votes_df.filter(higher_percent_helpful_votes_df[\"vine\"] == \"N\")\n",
    "N_vine_df.show()"
   ]
  },
  {
   "cell_type": "code",
   "execution_count": 22,
   "metadata": {
    "colab": {
     "base_uri": "https://localhost:8080/"
    },
    "id": "8GvpMS_zT_ve",
    "outputId": "bb2c7992-0f64-4b5f-dd9f-9271a64e793a"
   },
   "outputs": [
    {
     "name": "stdout",
     "output_type": "stream",
     "text": [
      "+---------------------------+\n",
      "|total_vine_equals_Y_reviews|\n",
      "+---------------------------+\n",
      "|                        136|\n",
      "+---------------------------+\n",
      "\n"
     ]
    }
   ],
   "source": [
    "# Calculating total number of reviews when vine equals \"Y\"\n",
    "Y_vine_total_reviews = Y_vine_df.agg({\"review_id\":\"count\"}).withColumnRenamed(\"count(review_id)\", \"total_vine_equals_Y_reviews\")\n",
    "Y_vine_total_reviews.show()\n"
   ]
  },
  {
   "cell_type": "code",
   "execution_count": 23,
   "metadata": {
    "colab": {
     "base_uri": "https://localhost:8080/"
    },
    "id": "E3MdKw9GVQbo",
    "outputId": "219b5304-4a90-4241-af19-e37640a18040"
   },
   "outputs": [
    {
     "name": "stdout",
     "output_type": "stream",
     "text": [
      "+--------------------------+\n",
      "|total_5star_Y_vine_reviews|\n",
      "+--------------------------+\n",
      "|                        74|\n",
      "+--------------------------+\n",
      "\n"
     ]
    }
   ],
   "source": [
    "# Calculating total number of 5-Star reviews when vine equals \"Y\"\n",
    "Y_vine_5star_reviews = Y_vine_df.filter(\"star_rating == 5\").agg({\"star_rating\":\"count\"}).withColumnRenamed(\"count(star_rating)\", \"total_5star_Y_vine_reviews\")\n",
    "Y_vine_5star_reviews.show()"
   ]
  },
  {
   "cell_type": "code",
   "execution_count": 24,
   "metadata": {
    "colab": {
     "base_uri": "https://localhost:8080/"
    },
    "id": "uuatyMJnWUMa",
    "outputId": "3e963481-1d3d-466f-c52e-fd9ed1082f5f"
   },
   "outputs": [
    {
     "data": {
      "text/plain": [
       "54.41176470588235"
      ]
     },
     "execution_count": 24,
     "metadata": {
      "tags": []
     },
     "output_type": "execute_result"
    }
   ],
   "source": [
    "# Calculating percentage of 5-Star reviews when vine equals \"Y\"\n",
    "Y_vine_5star_percent = Y_vine_5star_reviews.collect()[0][\"total_5star_Y_vine_reviews\"] / Y_vine_total_reviews.collect()[0][\"total_vine_equals_Y_reviews\"] * 100\n",
    "Y_vine_5star_percent\n"
   ]
  },
  {
   "cell_type": "code",
   "execution_count": 25,
   "metadata": {
    "colab": {
     "base_uri": "https://localhost:8080/"
    },
    "id": "lB2vy2r_XqUV",
    "outputId": "f8cdc9cc-d864-4b37-d72d-261a76606add"
   },
   "outputs": [
    {
     "name": "stdout",
     "output_type": "stream",
     "text": [
      "+---------------------------+\n",
      "|total_vine_equals_N_reviews|\n",
      "+---------------------------+\n",
      "|                      18019|\n",
      "+---------------------------+\n",
      "\n"
     ]
    }
   ],
   "source": [
    "# Calculating total number of reviews when vine equals \"N\"\n",
    "N_vine_total_reviews = N_vine_df.agg({\"review_id\":\"count\"}).withColumnRenamed(\"count(review_id)\", \"total_vine_equals_N_reviews\")\n",
    "N_vine_total_reviews.show()"
   ]
  },
  {
   "cell_type": "code",
   "execution_count": 26,
   "metadata": {
    "colab": {
     "base_uri": "https://localhost:8080/"
    },
    "id": "oQQjypxaYMvI",
    "outputId": "05349324-3c88-4770-b144-46b084ba4a69"
   },
   "outputs": [
    {
     "name": "stdout",
     "output_type": "stream",
     "text": [
      "+--------------------------+\n",
      "|total_5star_N_vine_reviews|\n",
      "+--------------------------+\n",
      "|                      8482|\n",
      "+--------------------------+\n",
      "\n"
     ]
    }
   ],
   "source": [
    "# Calculating total number of 5-Star reviews when vine equals \"N\"\n",
    "N_vine_5star_reviews = N_vine_df.filter(\"star_rating == 5\").agg({\"star_rating\":\"count\"}).withColumnRenamed(\"count(star_rating)\", \"total_5star_N_vine_reviews\")\n",
    "N_vine_5star_reviews.show()"
   ]
  },
  {
   "cell_type": "code",
   "execution_count": 27,
   "metadata": {
    "colab": {
     "base_uri": "https://localhost:8080/"
    },
    "id": "mEsLb3ncYYSL",
    "outputId": "81bbae0a-8318-47c6-c280-f7970c64613f"
   },
   "outputs": [
    {
     "data": {
      "text/plain": [
       "47.072534546867196"
      ]
     },
     "execution_count": 27,
     "metadata": {
      "tags": []
     },
     "output_type": "execute_result"
    }
   ],
   "source": [
    "# Calculating percentage of 5-Star reviews when vine equals \"N\"\n",
    "N_vine_5star_percent = N_vine_5star_reviews.collect()[0][\"total_5star_N_vine_reviews\"] / N_vine_total_reviews.collect()[0][\"total_vine_equals_N_reviews\"] * 100\n",
    "N_vine_5star_percent\n"
   ]
  },
  {
   "cell_type": "code",
   "execution_count": null,
   "metadata": {
    "id": "PZdvxRX0Yrdr"
   },
   "outputs": [],
   "source": []
  }
 ],
 "metadata": {
  "colab": {
   "collapsed_sections": [],
   "name": "Vine_Review_Analysis.ipynb",
   "provenance": []
  },
  "kernelspec": {
   "display_name": "Python 3",
   "language": "python",
   "name": "python3"
  },
  "language_info": {
   "codemirror_mode": {
    "name": "ipython",
    "version": 3
   },
   "file_extension": ".py",
   "mimetype": "text/x-python",
   "name": "python",
   "nbconvert_exporter": "python",
   "pygments_lexer": "ipython3",
   "version": "3.8.3"
  }
 },
 "nbformat": 4,
 "nbformat_minor": 1
}
